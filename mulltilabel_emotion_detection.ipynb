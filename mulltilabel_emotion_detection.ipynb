{
  "nbformat": 4,
  "nbformat_minor": 0,
  "metadata": {
    "colab": {
      "provenance": []
    },
    "kernelspec": {
      "name": "python3",
      "display_name": "Python 3"
    },
    "language_info": {
      "name": "python"
    },
    "widgets": {
      "application/vnd.jupyter.widget-state+json": {
        "ed6ddffb6cee49e787b646efab9f23ea": {
          "model_module": "@jupyter-widgets/controls",
          "model_name": "HBoxModel",
          "model_module_version": "1.5.0",
          "state": {
            "_dom_classes": [],
            "_model_module": "@jupyter-widgets/controls",
            "_model_module_version": "1.5.0",
            "_model_name": "HBoxModel",
            "_view_count": null,
            "_view_module": "@jupyter-widgets/controls",
            "_view_module_version": "1.5.0",
            "_view_name": "HBoxView",
            "box_style": "",
            "children": [
              "IPY_MODEL_8aad7e77abde49bb9371d676b2ee8e65",
              "IPY_MODEL_858f6569bb1540f29481fe1e4784f74c",
              "IPY_MODEL_dedb1422a7fc4023be3e6b078115902f"
            ],
            "layout": "IPY_MODEL_a43b7030e9dd4a94a5318004e834d44e"
          }
        },
        "8aad7e77abde49bb9371d676b2ee8e65": {
          "model_module": "@jupyter-widgets/controls",
          "model_name": "HTMLModel",
          "model_module_version": "1.5.0",
          "state": {
            "_dom_classes": [],
            "_model_module": "@jupyter-widgets/controls",
            "_model_module_version": "1.5.0",
            "_model_name": "HTMLModel",
            "_view_count": null,
            "_view_module": "@jupyter-widgets/controls",
            "_view_module_version": "1.5.0",
            "_view_name": "HTMLView",
            "description": "",
            "description_tooltip": null,
            "layout": "IPY_MODEL_0ec1aed3ea264512b99c81bef6e2e165",
            "placeholder": "​",
            "style": "IPY_MODEL_60012c41e4b24f6581585139ff9523e1",
            "value": "Batches: 100%"
          }
        },
        "858f6569bb1540f29481fe1e4784f74c": {
          "model_module": "@jupyter-widgets/controls",
          "model_name": "FloatProgressModel",
          "model_module_version": "1.5.0",
          "state": {
            "_dom_classes": [],
            "_model_module": "@jupyter-widgets/controls",
            "_model_module_version": "1.5.0",
            "_model_name": "FloatProgressModel",
            "_view_count": null,
            "_view_module": "@jupyter-widgets/controls",
            "_view_module_version": "1.5.0",
            "_view_name": "ProgressView",
            "bar_style": "success",
            "description": "",
            "description_tooltip": null,
            "layout": "IPY_MODEL_69a1d2d9d02f452ab2f2e44d5bebacb0",
            "max": 87,
            "min": 0,
            "orientation": "horizontal",
            "style": "IPY_MODEL_10567d2ebb7b4078854f9794616b24f0",
            "value": 87
          }
        },
        "dedb1422a7fc4023be3e6b078115902f": {
          "model_module": "@jupyter-widgets/controls",
          "model_name": "HTMLModel",
          "model_module_version": "1.5.0",
          "state": {
            "_dom_classes": [],
            "_model_module": "@jupyter-widgets/controls",
            "_model_module_version": "1.5.0",
            "_model_name": "HTMLModel",
            "_view_count": null,
            "_view_module": "@jupyter-widgets/controls",
            "_view_module_version": "1.5.0",
            "_view_name": "HTMLView",
            "description": "",
            "description_tooltip": null,
            "layout": "IPY_MODEL_79ac9b9dad4b454babe4f461a680ec61",
            "placeholder": "​",
            "style": "IPY_MODEL_5b1fc6459ad745d0a316f719e0842edc",
            "value": " 87/87 [00:30&lt;00:00,  8.05it/s]"
          }
        },
        "a43b7030e9dd4a94a5318004e834d44e": {
          "model_module": "@jupyter-widgets/base",
          "model_name": "LayoutModel",
          "model_module_version": "1.2.0",
          "state": {
            "_model_module": "@jupyter-widgets/base",
            "_model_module_version": "1.2.0",
            "_model_name": "LayoutModel",
            "_view_count": null,
            "_view_module": "@jupyter-widgets/base",
            "_view_module_version": "1.2.0",
            "_view_name": "LayoutView",
            "align_content": null,
            "align_items": null,
            "align_self": null,
            "border": null,
            "bottom": null,
            "display": null,
            "flex": null,
            "flex_flow": null,
            "grid_area": null,
            "grid_auto_columns": null,
            "grid_auto_flow": null,
            "grid_auto_rows": null,
            "grid_column": null,
            "grid_gap": null,
            "grid_row": null,
            "grid_template_areas": null,
            "grid_template_columns": null,
            "grid_template_rows": null,
            "height": null,
            "justify_content": null,
            "justify_items": null,
            "left": null,
            "margin": null,
            "max_height": null,
            "max_width": null,
            "min_height": null,
            "min_width": null,
            "object_fit": null,
            "object_position": null,
            "order": null,
            "overflow": null,
            "overflow_x": null,
            "overflow_y": null,
            "padding": null,
            "right": null,
            "top": null,
            "visibility": null,
            "width": null
          }
        },
        "0ec1aed3ea264512b99c81bef6e2e165": {
          "model_module": "@jupyter-widgets/base",
          "model_name": "LayoutModel",
          "model_module_version": "1.2.0",
          "state": {
            "_model_module": "@jupyter-widgets/base",
            "_model_module_version": "1.2.0",
            "_model_name": "LayoutModel",
            "_view_count": null,
            "_view_module": "@jupyter-widgets/base",
            "_view_module_version": "1.2.0",
            "_view_name": "LayoutView",
            "align_content": null,
            "align_items": null,
            "align_self": null,
            "border": null,
            "bottom": null,
            "display": null,
            "flex": null,
            "flex_flow": null,
            "grid_area": null,
            "grid_auto_columns": null,
            "grid_auto_flow": null,
            "grid_auto_rows": null,
            "grid_column": null,
            "grid_gap": null,
            "grid_row": null,
            "grid_template_areas": null,
            "grid_template_columns": null,
            "grid_template_rows": null,
            "height": null,
            "justify_content": null,
            "justify_items": null,
            "left": null,
            "margin": null,
            "max_height": null,
            "max_width": null,
            "min_height": null,
            "min_width": null,
            "object_fit": null,
            "object_position": null,
            "order": null,
            "overflow": null,
            "overflow_x": null,
            "overflow_y": null,
            "padding": null,
            "right": null,
            "top": null,
            "visibility": null,
            "width": null
          }
        },
        "60012c41e4b24f6581585139ff9523e1": {
          "model_module": "@jupyter-widgets/controls",
          "model_name": "DescriptionStyleModel",
          "model_module_version": "1.5.0",
          "state": {
            "_model_module": "@jupyter-widgets/controls",
            "_model_module_version": "1.5.0",
            "_model_name": "DescriptionStyleModel",
            "_view_count": null,
            "_view_module": "@jupyter-widgets/base",
            "_view_module_version": "1.2.0",
            "_view_name": "StyleView",
            "description_width": ""
          }
        },
        "69a1d2d9d02f452ab2f2e44d5bebacb0": {
          "model_module": "@jupyter-widgets/base",
          "model_name": "LayoutModel",
          "model_module_version": "1.2.0",
          "state": {
            "_model_module": "@jupyter-widgets/base",
            "_model_module_version": "1.2.0",
            "_model_name": "LayoutModel",
            "_view_count": null,
            "_view_module": "@jupyter-widgets/base",
            "_view_module_version": "1.2.0",
            "_view_name": "LayoutView",
            "align_content": null,
            "align_items": null,
            "align_self": null,
            "border": null,
            "bottom": null,
            "display": null,
            "flex": null,
            "flex_flow": null,
            "grid_area": null,
            "grid_auto_columns": null,
            "grid_auto_flow": null,
            "grid_auto_rows": null,
            "grid_column": null,
            "grid_gap": null,
            "grid_row": null,
            "grid_template_areas": null,
            "grid_template_columns": null,
            "grid_template_rows": null,
            "height": null,
            "justify_content": null,
            "justify_items": null,
            "left": null,
            "margin": null,
            "max_height": null,
            "max_width": null,
            "min_height": null,
            "min_width": null,
            "object_fit": null,
            "object_position": null,
            "order": null,
            "overflow": null,
            "overflow_x": null,
            "overflow_y": null,
            "padding": null,
            "right": null,
            "top": null,
            "visibility": null,
            "width": null
          }
        },
        "10567d2ebb7b4078854f9794616b24f0": {
          "model_module": "@jupyter-widgets/controls",
          "model_name": "ProgressStyleModel",
          "model_module_version": "1.5.0",
          "state": {
            "_model_module": "@jupyter-widgets/controls",
            "_model_module_version": "1.5.0",
            "_model_name": "ProgressStyleModel",
            "_view_count": null,
            "_view_module": "@jupyter-widgets/base",
            "_view_module_version": "1.2.0",
            "_view_name": "StyleView",
            "bar_color": null,
            "description_width": ""
          }
        },
        "79ac9b9dad4b454babe4f461a680ec61": {
          "model_module": "@jupyter-widgets/base",
          "model_name": "LayoutModel",
          "model_module_version": "1.2.0",
          "state": {
            "_model_module": "@jupyter-widgets/base",
            "_model_module_version": "1.2.0",
            "_model_name": "LayoutModel",
            "_view_count": null,
            "_view_module": "@jupyter-widgets/base",
            "_view_module_version": "1.2.0",
            "_view_name": "LayoutView",
            "align_content": null,
            "align_items": null,
            "align_self": null,
            "border": null,
            "bottom": null,
            "display": null,
            "flex": null,
            "flex_flow": null,
            "grid_area": null,
            "grid_auto_columns": null,
            "grid_auto_flow": null,
            "grid_auto_rows": null,
            "grid_column": null,
            "grid_gap": null,
            "grid_row": null,
            "grid_template_areas": null,
            "grid_template_columns": null,
            "grid_template_rows": null,
            "height": null,
            "justify_content": null,
            "justify_items": null,
            "left": null,
            "margin": null,
            "max_height": null,
            "max_width": null,
            "min_height": null,
            "min_width": null,
            "object_fit": null,
            "object_position": null,
            "order": null,
            "overflow": null,
            "overflow_x": null,
            "overflow_y": null,
            "padding": null,
            "right": null,
            "top": null,
            "visibility": null,
            "width": null
          }
        },
        "5b1fc6459ad745d0a316f719e0842edc": {
          "model_module": "@jupyter-widgets/controls",
          "model_name": "DescriptionStyleModel",
          "model_module_version": "1.5.0",
          "state": {
            "_model_module": "@jupyter-widgets/controls",
            "_model_module_version": "1.5.0",
            "_model_name": "DescriptionStyleModel",
            "_view_count": null,
            "_view_module": "@jupyter-widgets/base",
            "_view_module_version": "1.2.0",
            "_view_name": "StyleView",
            "description_width": ""
          }
        }
      }
    }
  },
  "cells": [
    {
      "cell_type": "code",
      "source": [
        "# 🚀 Install required packages\n",
        "#!pip install -q sentence-transformers imbalanced-learn"
      ],
      "metadata": {
        "id": "oaDXsOQRDbs-"
      },
      "execution_count": 37,
      "outputs": []
    },
    {
      "cell_type": "code",
      "source": [
        "import pandas as pd\n",
        "import numpy as np\n",
        "import re\n",
        "import nltk\n",
        "from nltk.corpus import stopwords\n",
        "from nltk.stem import WordNetLemmatizer\n",
        "from sklearn.model_selection import KFold\n",
        "from sklearn.metrics import precision_score, recall_score, f1_score\n",
        "from sklearn.ensemble import RandomForestClassifier\n",
        "from sklearn.multioutput import MultiOutputClassifier\n",
        "from imblearn.ensemble import BalancedRandomForestClassifier\n",
        "import joblib\n",
        "from sentence_transformers import SentenceTransformer"
      ],
      "metadata": {
        "id": "6MRDvvQPG5r4"
      },
      "execution_count": 38,
      "outputs": []
    },
    {
      "cell_type": "code",
      "source": [
        "# NLTK setup\n",
        "nltk.download('stopwords')\n",
        "nltk.download('wordnet')\n",
        "nltk.download('omw-1.4')"
      ],
      "metadata": {
        "colab": {
          "base_uri": "https://localhost:8080/"
        },
        "id": "Ho9xxdJMG-pF",
        "outputId": "9dd1e10a-58c2-4397-a85d-4ac276f456ec"
      },
      "execution_count": 39,
      "outputs": [
        {
          "output_type": "stream",
          "name": "stderr",
          "text": [
            "[nltk_data] Downloading package stopwords to /root/nltk_data...\n",
            "[nltk_data]   Package stopwords is already up-to-date!\n",
            "[nltk_data] Downloading package wordnet to /root/nltk_data...\n",
            "[nltk_data]   Package wordnet is already up-to-date!\n",
            "[nltk_data] Downloading package omw-1.4 to /root/nltk_data...\n",
            "[nltk_data]   Package omw-1.4 is already up-to-date!\n"
          ]
        },
        {
          "output_type": "execute_result",
          "data": {
            "text/plain": [
              "True"
            ]
          },
          "metadata": {},
          "execution_count": 39
        }
      ]
    },
    {
      "cell_type": "code",
      "source": [
        "# Global config\n",
        "emotion_cols = ['anger', 'fear', 'joy', 'sadness', 'surprise']\n",
        "stop_words = set(stopwords.words('english')) - {'not', 'no', 'never'}\n",
        "lemmatizer = WordNetLemmatizer()\n"
      ],
      "metadata": {
        "id": "3O9Vy_2_HCEy"
      },
      "execution_count": 40,
      "outputs": []
    },
    {
      "cell_type": "code",
      "source": [
        "# Preprocessing function\n",
        "def preprocess_text(text):\n",
        "    text = str(text).lower()\n",
        "    text = re.sub(r'http\\S+|www\\S+|https\\S+', '', text)\n",
        "    text = re.sub(r'[^a-z\\s]', '', text)\n",
        "    tokens = text.split()\n",
        "    tokens = [lemmatizer.lemmatize(w) for w in tokens if w not in stop_words]\n",
        "    return ' '.join(tokens)\n"
      ],
      "metadata": {
        "id": "TLJFs8R-HEXr"
      },
      "execution_count": 41,
      "outputs": []
    },
    {
      "cell_type": "code",
      "source": [
        "# Load data\n",
        "df = pd.read_csv('/track-a.csv')  # Adjust path if needed\n",
        "df['clean_text'] = df['text'].apply(preprocess_text)\n"
      ],
      "metadata": {
        "id": "OcZfOQUgHHtM"
      },
      "execution_count": 42,
      "outputs": []
    },
    {
      "cell_type": "code",
      "source": [
        "# Embedding\n",
        "embedder = SentenceTransformer('all-MiniLM-L6-v2')\n",
        "X = embedder.encode(df['text'].tolist(), show_progress_bar=True)\n",
        "y = df[emotion_cols].values\n",
        "joblib.dump(embedder, 'embedder.joblib')\n"
      ],
      "metadata": {
        "colab": {
          "base_uri": "https://localhost:8080/",
          "height": 66,
          "referenced_widgets": [
            "ed6ddffb6cee49e787b646efab9f23ea",
            "8aad7e77abde49bb9371d676b2ee8e65",
            "858f6569bb1540f29481fe1e4784f74c",
            "dedb1422a7fc4023be3e6b078115902f",
            "a43b7030e9dd4a94a5318004e834d44e",
            "0ec1aed3ea264512b99c81bef6e2e165",
            "60012c41e4b24f6581585139ff9523e1",
            "69a1d2d9d02f452ab2f2e44d5bebacb0",
            "10567d2ebb7b4078854f9794616b24f0",
            "79ac9b9dad4b454babe4f461a680ec61",
            "5b1fc6459ad745d0a316f719e0842edc"
          ]
        },
        "id": "MZ2GmSEZHLOZ",
        "outputId": "7c3cc090-35e8-4015-f70a-e1729d3a5636"
      },
      "execution_count": 43,
      "outputs": [
        {
          "output_type": "display_data",
          "data": {
            "text/plain": [
              "Batches:   0%|          | 0/87 [00:00<?, ?it/s]"
            ],
            "application/vnd.jupyter.widget-view+json": {
              "version_major": 2,
              "version_minor": 0,
              "model_id": "ed6ddffb6cee49e787b646efab9f23ea"
            }
          },
          "metadata": {}
        },
        {
          "output_type": "execute_result",
          "data": {
            "text/plain": [
              "['embedder.joblib']"
            ]
          },
          "metadata": {},
          "execution_count": 43
        }
      ]
    },
    {
      "cell_type": "code",
      "source": [
        "# KFold and Threshold tuning\n",
        "kf = KFold(n_splits=5, shuffle=True, random_state=42)\n",
        "best_thresholds = {emo: [] for emo in emotion_cols}\n",
        "metrics_summary = {emo: {'precision': [], 'recall': [], 'f1': []} for emo in emotion_cols}\n",
        "\n",
        "def find_best_thresholds(X_val, y_val, model):\n",
        "    thresh = {}\n",
        "    probs = model.predict_proba(X_val)  # list of arrays, one per emotion\n",
        "    for i, emo in enumerate(emotion_cols):\n",
        "        prob_pos = probs[i][:, 1]\n",
        "        best, best_f1 = 0.5, 0\n",
        "        for t in np.arange(0.3, 0.91, 0.05):\n",
        "            f = f1_score(y_val[:, i], prob_pos >= t, zero_division=0)\n",
        "            if f > best_f1:\n",
        "                best, best_f1 = t, f\n",
        "        thresh[emo] = best\n",
        "    return thresh"
      ],
      "metadata": {
        "id": "gVO5pT6yHNes"
      },
      "execution_count": 44,
      "outputs": []
    },
    {
      "cell_type": "code",
      "source": [
        "# Train with folds\n",
        "for fold, (train_i, val_i) in enumerate(kf.split(X)):\n",
        "    X_tr, X_val = X[train_i], X[val_i]\n",
        "    y_tr, y_val = y[train_i], y[val_i]\n",
        "\n",
        "    base_clf = BalancedRandomForestClassifier(random_state=42, n_estimators=100)\n",
        "    multi_clf = MultiOutputClassifier(base_clf)\n",
        "    multi_clf.fit(X_tr, y_tr)\n",
        "\n",
        "    fold_thresh = find_best_thresholds(X_val, y_val, multi_clf)\n",
        "    for emo in emotion_cols:\n",
        "        best_thresholds[emo].append(fold_thresh[emo])\n",
        "\n",
        "    # Evaluate metrics on validation set\n",
        "    probs = multi_clf.predict_proba(X_val)\n",
        "    for i, emo in enumerate(emotion_cols):\n",
        "        pred_bin = (probs[i][:, 1] >= fold_thresh[emo]).astype(int)\n",
        "        metrics_summary[emo]['precision'].append(precision_score(y_val[:, i], pred_bin, zero_division=0))\n",
        "        metrics_summary[emo]['recall'].append(recall_score(y_val[:, i], pred_bin, zero_division=0))\n",
        "        metrics_summary[emo]['f1'].append(f1_score(y_val[:, i], pred_bin, zero_division=0))\n"
      ],
      "metadata": {
        "id": "sdD4Kon-HP27"
      },
      "execution_count": 45,
      "outputs": []
    },
    {
      "cell_type": "code",
      "source": [
        "# Report final thresholds and metrics\n",
        "final_thresholds = {emo: np.mean(best_thresholds[emo]) for emo in emotion_cols}\n",
        "print(\"\\n📊 Tuned thresholds:\")\n",
        "for emo, val in final_thresholds.items():\n",
        "    print(f\"{emo}: {val:.3f}\")\n",
        "joblib.dump(final_thresholds, 'thresholds.joblib')\n"
      ],
      "metadata": {
        "colab": {
          "base_uri": "https://localhost:8080/"
        },
        "id": "l5hVWyOdHWZg",
        "outputId": "b263d607-53b3-4c7c-80a6-357c9686f8d8"
      },
      "execution_count": 46,
      "outputs": [
        {
          "output_type": "stream",
          "name": "stdout",
          "text": [
            "\n",
            "📊 Tuned thresholds:\n",
            "anger: 0.470\n",
            "fear: 0.440\n",
            "joy: 0.450\n",
            "sadness: 0.440\n",
            "surprise: 0.460\n"
          ]
        },
        {
          "output_type": "execute_result",
          "data": {
            "text/plain": [
              "['thresholds.joblib']"
            ]
          },
          "metadata": {},
          "execution_count": 46
        }
      ]
    },
    {
      "cell_type": "code",
      "source": [
        "print(\"\\n📈 Cross-validated performance:\")\n",
        "for emo in emotion_cols:\n",
        "    p = np.mean(metrics_summary[emo]['precision'])\n",
        "    r = np.mean(metrics_summary[emo]['recall'])\n",
        "    f = np.mean(metrics_summary[emo]['f1'])\n",
        "    print(f\"{emo}: Precision={p:.3f}, Recall={r:.3f}, F1={f:.3f}\")\n"
      ],
      "metadata": {
        "colab": {
          "base_uri": "https://localhost:8080/"
        },
        "id": "sNKxk6ZoHdIc",
        "outputId": "4d5f24cd-8098-42bc-e4bf-56902b5ffa53"
      },
      "execution_count": 47,
      "outputs": [
        {
          "output_type": "stream",
          "name": "stdout",
          "text": [
            "\n",
            "📈 Cross-validated performance:\n",
            "anger: Precision=0.361, Recall=0.523, F1=0.418\n",
            "fear: Precision=0.673, Recall=0.915, F1=0.775\n",
            "joy: Precision=0.509, Recall=0.692, F1=0.582\n",
            "sadness: Precision=0.547, Recall=0.710, F1=0.615\n",
            "surprise: Precision=0.546, Recall=0.698, F1=0.610\n"
          ]
        }
      ]
    },
    {
      "cell_type": "code",
      "source": [
        "# Train final model\n",
        "final_model = MultiOutputClassifier(BalancedRandomForestClassifier(random_state=42, n_estimators=100))\n",
        "final_model.fit(X, y)\n",
        "joblib.dump(final_model, 'multi_rf_model.joblib')\n",
        "print(\"\\n✅ Final multi-label model saved!\")"
      ],
      "metadata": {
        "id": "dNgBR7ZKHlmd",
        "colab": {
          "base_uri": "https://localhost:8080/"
        },
        "outputId": "f18def4f-9ff9-4578-bc96-33e937fb0f78"
      },
      "execution_count": 48,
      "outputs": [
        {
          "output_type": "stream",
          "name": "stdout",
          "text": [
            "\n",
            "✅ Final multi-label model saved!\n"
          ]
        }
      ]
    },
    {
      "cell_type": "code",
      "source": [
        "def predict_emotions(sent_list):\n",
        "    embedder = joblib.load('embedder.joblib')\n",
        "    thresholds = joblib.load('thresholds.joblib')\n",
        "    model = joblib.load('multi_rf_model.joblib')\n",
        "    X_new = embedder.encode(sent_list)\n",
        "    probs = model.predict_proba(X_new)\n",
        "    preds = []\n",
        "    for i in range(len(sent_list)):\n",
        "        pred = {}\n",
        "        for j, emo in enumerate(emotion_cols):\n",
        "            prob_pos = probs[j][i, 1]\n",
        "            pred[emo] = int(prob_pos >= thresholds[emo])\n",
        "        preds.append(pred)\n",
        "    return preds"
      ],
      "metadata": {
        "id": "0Ee49vD3HoZd"
      },
      "execution_count": 49,
      "outputs": []
    },
    {
      "cell_type": "code",
      "source": [
        "# Train final model\n",
        "final_model = MultiOutputClassifier(BalancedRandomForestClassifier(random_state=42, n_estimators=100))\n",
        "final_model.fit(X, y)\n",
        "joblib.dump(final_model, 'multi_rf_model.joblib')\n",
        "print(\"\\n✅ Final multi-label model saved!\")"
      ],
      "metadata": {
        "colab": {
          "base_uri": "https://localhost:8080/"
        },
        "id": "z2J1mH22T93e",
        "outputId": "45452971-92e1-4ff3-f4f5-d5f3229bdb97"
      },
      "execution_count": 50,
      "outputs": [
        {
          "output_type": "stream",
          "name": "stdout",
          "text": [
            "\n",
            "✅ Final multi-label model saved!\n"
          ]
        }
      ]
    },
    {
      "cell_type": "code",
      "source": [
        "# Interactive demo\n",
        "if __name__ == \"__main__\":\n",
        "    input_text = input(\"Enter sentences separated by '|': \")\n",
        "    sents = [s.strip() for s in input_text.split('|')]\n",
        "    results = predict_emotions(sents)\n",
        "    for sent, pred in zip(sents, results):\n",
        "        print(f\"\\nSentence: {sent}\")\n",
        "        for emo in emotion_cols:\n",
        "            print(f\"  {emo}: {pred[emo]}\")"
      ],
      "metadata": {
        "colab": {
          "base_uri": "https://localhost:8080/"
        },
        "id": "86kvfORmUE91",
        "outputId": "66329fd8-9ce9-4fd6-b338-cfd7156306d1"
      },
      "execution_count": 51,
      "outputs": [
        {
          "output_type": "stream",
          "name": "stdout",
          "text": [
            "Enter sentences separated by '|': I couldn’t believe I actually won the competition — I was thrilled and completely surprised, but also nervous about what comes next.\n",
            "\n",
            "Sentence: I couldn’t believe I actually won the competition — I was thrilled and completely surprised, but also nervous about what comes next.\n",
            "  anger: 0\n",
            "  fear: 0\n",
            "  joy: 1\n",
            "  sadness: 0\n",
            "  surprise: 0\n"
          ]
        }
      ]
    }
  ]
}